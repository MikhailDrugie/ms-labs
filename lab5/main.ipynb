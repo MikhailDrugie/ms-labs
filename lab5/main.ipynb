{
 "cells": [
  {
   "cell_type": "markdown",
   "source": [
    "# Лабораторная работа №5\n",
    "\n",
    "# Разработка единого шаблона предварительной обработки данных\n",
    "\n",
    "## Подключение библиотек"
   ],
   "metadata": {
    "collapsed": false
   },
   "id": "b22a91c3308b0872"
  },
  {
   "cell_type": "code",
   "outputs": [],
   "source": [
    "import numpy as np\n",
    "import matplotlib.pyplot as plt\n",
    "import pandas as pd"
   ],
   "metadata": {
    "collapsed": false,
    "ExecuteTime": {
     "end_time": "2024-11-18T03:22:20.992239600Z",
     "start_time": "2024-11-18T03:22:20.929366900Z"
    }
   },
   "id": "a90c90ac2b64b588",
   "execution_count": 45
  },
  {
   "cell_type": "markdown",
   "source": [
    "## Загрузка данных и разделение на матрицу признаков и зависимую переменную\n",
    "\n",
    "За основу взяты сгенерированные данные, включающие в себя:\n",
    "- производителя авто\n",
    "- год выпуска модели (есть пропуски)\n",
    "- страну эксплуатации (есть пропуски)\n",
    "- километраж (в милях) (есть пропуски)\n",
    "- флаг о нужде в починке"
   ],
   "metadata": {
    "collapsed": false
   },
   "id": "3b1f2dc9a6d7f250"
  },
  {
   "cell_type": "code",
   "outputs": [
    {
     "data": {
      "text/plain": "     Car Make                   Country    Year   Mileage  Needs Repair\n0       Lotus                   Nigeria  2005.0  491887.0         False\n1     Pontiac  Central African Republic  1971.0  490908.0          True\n2      Hummer                   Ireland  1997.0       NaN         False\n3      Suzuki                    Sweden  2002.0  136542.0         False\n4  Mitsubishi                     China  1999.0       NaN          True",
      "text/html": "<div>\n<style scoped>\n    .dataframe tbody tr th:only-of-type {\n        vertical-align: middle;\n    }\n\n    .dataframe tbody tr th {\n        vertical-align: top;\n    }\n\n    .dataframe thead th {\n        text-align: right;\n    }\n</style>\n<table border=\"1\" class=\"dataframe\">\n  <thead>\n    <tr style=\"text-align: right;\">\n      <th></th>\n      <th>Car Make</th>\n      <th>Country</th>\n      <th>Year</th>\n      <th>Mileage</th>\n      <th>Needs Repair</th>\n    </tr>\n  </thead>\n  <tbody>\n    <tr>\n      <th>0</th>\n      <td>Lotus</td>\n      <td>Nigeria</td>\n      <td>2005.0</td>\n      <td>491887.0</td>\n      <td>False</td>\n    </tr>\n    <tr>\n      <th>1</th>\n      <td>Pontiac</td>\n      <td>Central African Republic</td>\n      <td>1971.0</td>\n      <td>490908.0</td>\n      <td>True</td>\n    </tr>\n    <tr>\n      <th>2</th>\n      <td>Hummer</td>\n      <td>Ireland</td>\n      <td>1997.0</td>\n      <td>NaN</td>\n      <td>False</td>\n    </tr>\n    <tr>\n      <th>3</th>\n      <td>Suzuki</td>\n      <td>Sweden</td>\n      <td>2002.0</td>\n      <td>136542.0</td>\n      <td>False</td>\n    </tr>\n    <tr>\n      <th>4</th>\n      <td>Mitsubishi</td>\n      <td>China</td>\n      <td>1999.0</td>\n      <td>NaN</td>\n      <td>True</td>\n    </tr>\n  </tbody>\n</table>\n</div>"
     },
     "execution_count": 46,
     "metadata": {},
     "output_type": "execute_result"
    }
   ],
   "source": [
    "dataset = pd.read_csv('MOCK_DATA.csv')\n",
    "dataset.head()"
   ],
   "metadata": {
    "collapsed": false,
    "ExecuteTime": {
     "end_time": "2024-11-18T03:22:21.008463100Z",
     "start_time": "2024-11-18T03:22:20.995241900Z"
    }
   },
   "id": "26f4cd15e5f68fd3",
   "execution_count": 46
  },
  {
   "cell_type": "code",
   "outputs": [
    {
     "name": "stdout",
     "output_type": "stream",
     "text": [
      "Матрица признаков\n",
      "[['Lotus' 'Nigeria' 2005.0 491887.0]\n",
      " ['Pontiac' 'Central African Republic' 1971.0 490908.0]\n",
      " ['Hummer' 'Ireland' 1997.0 nan]\n",
      " ['Suzuki' 'Sweden' 2002.0 136542.0]\n",
      " ['Mitsubishi' 'China' 1999.0 nan]]\n",
      "Зависимая переменная\n",
      "[False  True False False  True]\n"
     ]
    }
   ],
   "source": [
    "X = dataset.iloc[:, :-1].values\n",
    "y = dataset.iloc[:, -1].values\n",
    "print(\"Матрица признаков\"); print(X[:5])\n",
    "print(\"Зависимая переменная\"); print(y[:5])"
   ],
   "metadata": {
    "collapsed": false,
    "ExecuteTime": {
     "end_time": "2024-11-18T03:22:21.020188300Z",
     "start_time": "2024-11-18T03:22:21.010462400Z"
    }
   },
   "id": "a848f2d70a503df9",
   "execution_count": 47
  },
  {
   "cell_type": "markdown",
   "source": [
    "## Обработка пропущенных значений"
   ],
   "metadata": {
    "collapsed": false
   },
   "id": "fa735902aa14f918"
  },
  {
   "cell_type": "code",
   "outputs": [
    {
     "data": {
      "text/plain": "array([['Lotus', 'Nigeria', 2005.0, 491887.0],\n       ['Pontiac', 'Central African Republic', 1971.0, 490908.0],\n       ['Hummer', 'Ireland', 1997.0, 260451.41992882563],\n       ...,\n       ['Cadillac', 'Venezuela', 1995.0, 324987.0],\n       ['Ford', 'China', 2008.0, 44461.0],\n       ['Audi', 'Japan', 2000.0, 58580.0]], dtype=object)"
     },
     "execution_count": 48,
     "metadata": {},
     "output_type": "execute_result"
    }
   ],
   "source": [
    "# Новая версия класса-трансформера, без устаревшего Imputer\n",
    "from sklearn.impute import SimpleImputer\n",
    "imputer = SimpleImputer(missing_values = np.nan, strategy = 'mean')\n",
    "imputer = imputer.fit(X[:, 2:4])\n",
    "X_without_nan = X.copy()\n",
    "X_without_nan[:, 2:4] = imputer.transform(X[:, 2:4])\n",
    "X_without_nan"
   ],
   "metadata": {
    "collapsed": false,
    "ExecuteTime": {
     "end_time": "2024-11-18T03:22:21.041081700Z",
     "start_time": "2024-11-18T03:22:21.014926100Z"
    }
   },
   "id": "1595e3260582f99d",
   "execution_count": 48
  },
  {
   "cell_type": "markdown",
   "source": [
    "## Обработка категориальных данных\n",
    "\n",
    "### Замена категории кодом (LabelEncoder)"
   ],
   "metadata": {
    "collapsed": false
   },
   "id": "ff0406658dc1f64f"
  },
  {
   "cell_type": "code",
   "outputs": [
    {
     "name": "stdout",
     "output_type": "stream",
     "text": [
      "Зависимая переменная до обработки\n",
      "[False  True False False  True  True False False  True False]\n",
      "Зависимая переменная после обработки\n",
      "[0 1 0 0 1 1 0 0 1 0]\n"
     ]
    }
   ],
   "source": [
    "from sklearn.preprocessing import LabelEncoder\n",
    "labelencoder_y = LabelEncoder()\n",
    "print(\"Зависимая переменная до обработки\")\n",
    "print(y[:10])\n",
    "y = labelencoder_y.fit_transform(y)\n",
    "print(\"Зависимая переменная после обработки\")\n",
    "print(y[:10])"
   ],
   "metadata": {
    "collapsed": false,
    "ExecuteTime": {
     "end_time": "2024-11-18T03:22:21.055083800Z",
     "start_time": "2024-11-18T03:22:21.021189300Z"
    }
   },
   "id": "5ecff44ddff9b445",
   "execution_count": 49
  },
  {
   "cell_type": "markdown",
   "source": [
    "### Применение OneHotEncoder"
   ],
   "metadata": {
    "collapsed": false
   },
   "id": "a3303c1483be910c"
  },
  {
   "cell_type": "code",
   "outputs": [
    {
     "data": {
      "text/plain": "array([['Lotus', 'Nigeria', 2005.0, 491887.0],\n       ['Pontiac', 'Central African Republic', 1971.0, 490908.0],\n       ['Hummer', 'Ireland', 1997.0, nan],\n       ...,\n       ['Cadillac', 'Venezuela', 1995.0, 324987.0],\n       ['Ford', 'China', 2008.0, 44461.0],\n       ['Audi', 'Japan', 2000.0, 58580.0]], dtype=object)"
     },
     "execution_count": 50,
     "metadata": {},
     "output_type": "execute_result"
    }
   ],
   "source": [
    "# создаем копию \"грязного\" объекта: спропусками и некодированными категориями\n",
    "X_dirty = X.copy()\n",
    "X_dirty"
   ],
   "metadata": {
    "collapsed": false,
    "ExecuteTime": {
     "end_time": "2024-11-18T03:22:21.056083700Z",
     "start_time": "2024-11-18T03:22:21.025616Z"
    }
   },
   "id": "b46dbb53c36ee88a",
   "execution_count": 50
  },
  {
   "cell_type": "code",
   "outputs": [
    {
     "name": "stdout",
     "output_type": "stream",
     "text": [
      "(1000, 178)\n"
     ]
    },
    {
     "data": {
      "text/plain": "<Compressed Sparse Row sparse matrix of dtype 'float64'\n\twith 4000 stored elements and shape (1000, 178)>"
     },
     "execution_count": 51,
     "metadata": {},
     "output_type": "execute_result"
    }
   ],
   "source": [
    "# Современный метод трансформации признаков\n",
    "from sklearn.preprocessing import OneHotEncoder\n",
    "from sklearn.impute import SimpleImputer\n",
    "from sklearn.compose import ColumnTransformer\n",
    "\n",
    "# создаем список трансформеров\n",
    "transformers = [\n",
    "    ('onehot', OneHotEncoder(), [0, 1]),\n",
    "    ('imp', SimpleImputer(), [2, 3])\n",
    "]\n",
    "\n",
    "# Создаем объект ColumnTransformer и передаем ему список трансформеров\n",
    "ct = ColumnTransformer(transformers)\n",
    "\n",
    "# Выполняем трансформацию признаков\n",
    "X_transformed = ct.fit_transform(X_dirty)\n",
    "print(X_transformed.shape)\n",
    "X_transformed  # use small data to see results"
   ],
   "metadata": {
    "collapsed": false,
    "ExecuteTime": {
     "end_time": "2024-11-18T03:22:21.056083700Z",
     "start_time": "2024-11-18T03:22:21.030225200Z"
    }
   },
   "id": "1be27da8818941ab",
   "execution_count": 51
  },
  {
   "cell_type": "code",
   "outputs": [
    {
     "data": {
      "text/plain": "(1000, 1)"
     },
     "execution_count": 52,
     "metadata": {},
     "output_type": "execute_result"
    }
   ],
   "source": [
    "# Можно преобразовать полученный многомерный массив обратно в Dataframe (но там получается 178 столбцов - слишком долго обрабатывается)\n",
    "X_data = pd.DataFrame(\n",
    "    X_transformed)\n",
    "X_data.shape"
   ],
   "metadata": {
    "collapsed": false,
    "ExecuteTime": {
     "end_time": "2024-11-18T03:22:21.120706300Z",
     "start_time": "2024-11-18T03:22:21.044082300Z"
    }
   },
   "id": "2cfa29b08893f52d",
   "execution_count": 52
  },
  {
   "cell_type": "markdown",
   "source": [
    "## Разделение выборки на train-test"
   ],
   "metadata": {
    "collapsed": false
   },
   "id": "dd7c95e32a9a95aa"
  },
  {
   "cell_type": "code",
   "outputs": [],
   "source": [
    "from sklearn.model_selection import train_test_split\n",
    "\n",
    "X_train, X_test, y_train, y_test = train_test_split(\n",
    "    X_without_nan, y, test_size=0.2, random_state=42\n",
    ")"
   ],
   "metadata": {
    "collapsed": false,
    "ExecuteTime": {
     "end_time": "2024-11-18T03:22:21.122705700Z",
     "start_time": "2024-11-18T03:22:21.101707300Z"
    }
   },
   "id": "1f56dcedc0254f68",
   "execution_count": 53
  },
  {
   "cell_type": "code",
   "outputs": [
    {
     "data": {
      "text/plain": "array([['Rolls-Royce', 'Portugal', 2011.0, 200050.0],\n       ['Buick', 'Philippines', 1993.0, 44589.0],\n       ['Ford', 'Luxembourg', 1989.0, 330695.0],\n       ...,\n       ['Mercury', 'United States', 1998.0, 329547.0],\n       ['GMC', 'Nigeria', 1997.0, 490362.0],\n       ['Lincoln', 'China', 1987.0, 435076.0]], dtype=object)"
     },
     "execution_count": 54,
     "metadata": {},
     "output_type": "execute_result"
    }
   ],
   "source": [
    "X_train"
   ],
   "metadata": {
    "collapsed": false,
    "ExecuteTime": {
     "end_time": "2024-11-18T03:22:21.144755800Z",
     "start_time": "2024-11-18T03:22:21.124709500Z"
    }
   },
   "id": "8a75041e2fbcdc90",
   "execution_count": 54
  },
  {
   "cell_type": "code",
   "outputs": [
    {
     "data": {
      "text/plain": "array([0, 0, 0, 1, 0, 1, 1, 1, 1, 1, 0, 1, 0, 1, 0, 0, 1, 0, 1, 1, 1, 1,\n       1, 0, 1, 0, 0, 0, 0, 0, 1, 1, 0, 1, 1, 0, 0, 1, 1, 0, 0, 0, 0, 1,\n       1, 1, 0, 0, 1, 0, 1, 1, 0, 1, 0, 0, 1, 1, 0, 1, 0, 1, 0, 0, 1, 1,\n       0, 1, 1, 1, 1, 1, 0, 0, 0, 0, 0, 1, 0, 0, 0, 0, 1, 0, 0, 0, 0, 1,\n       0, 1, 0, 1, 1, 1, 0, 0, 0, 1, 0, 0, 1, 0, 1, 0, 0, 0, 0, 0, 1, 1,\n       1, 0, 1, 1, 1, 0, 1, 0, 1, 1, 0, 1, 1, 1, 0, 0, 0, 0, 0, 0, 1, 1,\n       0, 0, 0, 0, 1, 1, 0, 1, 0, 1, 1, 0, 1, 0, 1, 0, 0, 1, 1, 1, 0, 0,\n       0, 0, 1, 0, 0, 1, 0, 1, 0, 1, 0, 0, 0, 0, 0, 1, 0, 0, 1, 0, 0, 0,\n       0, 1, 0, 0, 0, 1, 0, 1, 1, 1, 0, 1, 0, 0, 1, 1, 0, 0, 1, 1, 0, 0,\n       0, 0, 0, 1, 0, 1, 0, 1, 0, 0, 0, 1, 0, 1, 0, 1, 1, 0, 0, 1, 1, 1,\n       0, 1, 0, 0, 0, 1, 1, 1, 0, 1, 0, 1, 0, 1, 0, 1, 0, 1, 0, 1, 1, 0,\n       0, 1, 0, 0, 0, 0, 0, 0, 1, 0, 0, 1, 0, 1, 1, 1, 0, 0, 0, 1, 0, 1,\n       0, 0, 1, 0, 0, 1, 0, 1, 1, 1, 1, 1, 0, 1, 0, 1, 0, 0, 0, 0, 1, 1,\n       0, 0, 0, 0, 1, 0, 0, 1, 0, 1, 1, 0, 0, 1, 0, 0, 0, 0, 0, 0, 0, 1,\n       0, 1, 1, 0, 1, 0, 0, 0, 0, 1, 1, 0, 1, 1, 1, 0, 1, 1, 0, 1, 1, 1,\n       0, 1, 1, 0, 1, 0, 0, 0, 1, 0, 0, 1, 1, 1, 0, 0, 0, 1, 1, 0, 1, 0,\n       1, 1, 1, 1, 0, 1, 0, 0, 0, 0, 0, 0, 0, 1, 1, 0, 1, 1, 1, 1, 1, 0,\n       1, 0, 1, 1, 1, 0, 0, 0, 1, 0, 1, 0, 1, 0, 0, 1, 1, 1, 0, 0, 0, 0,\n       0, 1, 0, 1, 1, 0, 0, 0, 0, 0, 0, 1, 1, 1, 1, 0, 0, 0, 0, 1, 0, 0,\n       0, 0, 0, 0, 1, 0, 0, 0, 1, 0, 0, 0, 0, 1, 1, 1, 0, 0, 1, 0, 1, 1,\n       0, 1, 1, 0, 1, 1, 0, 1, 0, 1, 0, 0, 1, 0, 1, 0, 0, 1, 0, 0, 1, 1,\n       0, 0, 0, 1, 1, 0, 1, 0, 0, 1, 0, 1, 1, 0, 1, 0, 0, 0, 1, 0, 0, 1,\n       1, 1, 0, 0, 0, 0, 1, 1, 0, 1, 1, 0, 0, 0, 1, 1, 0, 0, 1, 0, 1, 0,\n       1, 0, 0, 0, 0, 1, 0, 0, 0, 1, 0, 0, 0, 1, 1, 0, 0, 0, 1, 0, 1, 1,\n       1, 0, 0, 1, 1, 1, 1, 1, 1, 0, 1, 1, 0, 1, 1, 0, 1, 0, 0, 0, 1, 0,\n       0, 1, 0, 0, 0, 0, 1, 0, 1, 1, 1, 0, 1, 1, 0, 0, 1, 0, 0, 0, 1, 0,\n       1, 1, 0, 1, 0, 1, 0, 0, 0, 1, 0, 0, 1, 0, 0, 1, 1, 0, 1, 1, 1, 0,\n       0, 0, 1, 1, 1, 0, 1, 1, 1, 1, 1, 1, 1, 1, 0, 1, 1, 1, 0, 1, 0, 1,\n       0, 0, 0, 0, 1, 0, 1, 0, 0, 1, 1, 0, 1, 0, 0, 1, 0, 1, 1, 1, 0, 1,\n       1, 0, 0, 1, 0, 1, 1, 0, 0, 0, 1, 1, 1, 0, 1, 1, 1, 1, 0, 0, 0, 1,\n       1, 0, 0, 0, 1, 1, 1, 0, 0, 1, 1, 1, 0, 1, 1, 1, 1, 1, 1, 0, 1, 0,\n       0, 0, 1, 0, 0, 0, 1, 1, 0, 1, 1, 0, 1, 1, 1, 0, 0, 1, 1, 1, 1, 0,\n       0, 0, 1, 0, 0, 0, 0, 0, 1, 0, 0, 1, 0, 0, 0, 0, 0, 1, 0, 0, 1, 0,\n       1, 0, 1, 1, 1, 1, 1, 0, 1, 0, 1, 0, 0, 1, 1, 1, 1, 1, 0, 0, 1, 1,\n       0, 0, 0, 0, 1, 1, 0, 1, 0, 1, 1, 1, 0, 1, 0, 0, 0, 0, 0, 1, 1, 1,\n       0, 1, 0, 0, 1, 0, 1, 0, 0, 0, 0, 0, 1, 0, 1, 1, 0, 1, 0, 0, 1, 1,\n       0, 1, 0, 1, 0, 0, 0, 1])"
     },
     "execution_count": 55,
     "metadata": {},
     "output_type": "execute_result"
    }
   ],
   "source": [
    "y_train"
   ],
   "metadata": {
    "collapsed": false,
    "ExecuteTime": {
     "end_time": "2024-11-18T03:22:21.169669700Z",
     "start_time": "2024-11-18T03:22:21.129505700Z"
    }
   },
   "id": "10b4850c3ea348ba",
   "execution_count": 55
  },
  {
   "cell_type": "code",
   "outputs": [
    {
     "data": {
      "text/plain": "array([['Chevrolet', 'Indonesia', 2000.0, 116114.0],\n       ['Ford', 'China', 1997.0, 459654.0],\n       ['Chevrolet', 'Nigeria', 1993.0, 353215.0],\n       ['Buick', 'Philippines', 2002.0, 100957.0],\n       ['Mercedes-Benz', 'Indonesia', 2001.0, 281876.0],\n       ['Daewoo', 'Cuba', 1999.0, 205654.0],\n       ['Chevrolet', 'Bulgaria', 1995.0, 181783.0],\n       ['Porsche', 'China', 1999.0, 205943.0],\n       ['Plymouth', 'Indonesia', 2000.0, 497736.0],\n       ['Lexus', 'Poland', 2011.0, 200194.0],\n       ['Dodge', 'Niger', 1993.0, 356073.0],\n       ['Ford', 'Indonesia', 2008.0, 357588.0],\n       ['Mazda', 'Canada', 1992.0, 359467.0],\n       ['Mitsubishi', 'Indonesia', 2000.2080173347779,\n        260451.41992882563],\n       ['Acura', 'France', 1998.0, 165513.0],\n       ['Chrysler', 'China', 2002.0, 245611.0],\n       ['GMC', 'France', 1996.0, 67763.0],\n       ['Audi', 'Japan', 2000.2080173347779, 496463.0],\n       ['Ford', 'China', 2012.0, 260451.41992882563],\n       ['Ford', 'Poland', 2008.0, 371992.0],\n       ['Chevrolet', 'China', 2008.0, 400181.0],\n       ['Buick', 'Palestinian Territory', 2002.0, 376469.0],\n       ['Chevrolet', 'United States', 1993.0, 495753.0],\n       ['Mazda', 'Philippines', 2000.0, 314113.0],\n       ['Toyota', 'Portugal', 2003.0, 250716.0],\n       ['Nissan', 'Belarus', 1996.0, 260451.41992882563],\n       ['Pontiac', 'Cameroon', 1999.0, 308920.0],\n       ['Subaru', 'Sweden', 1986.0, 19873.0],\n       ['Chevrolet', 'China', 2003.0, 366068.0],\n       ['Chevrolet', 'Israel', 2000.2080173347779, 107703.0],\n       ['Dodge', 'Malaysia', 2006.0, 203304.0],\n       ['Toyota', 'Egypt', 2000.2080173347779, 438832.0],\n       ['Dodge', 'China', 2009.0, 120628.0],\n       ['Lexus', 'Greece', 2010.0, 317316.0],\n       ['Toyota', 'Colombia', 2000.0, 260451.41992882563],\n       ['Chevrolet', 'China', 1994.0, 245381.0],\n       ['Infiniti', 'China', 2003.0, 182407.0],\n       ['GMC', 'Philippines', 2012.0, 65725.0],\n       ['Toyota', 'Russia', 2006.0, 260451.41992882563],\n       ['Buick', 'France', 1988.0, 268964.0],\n       ['Kia', 'China', 2009.0, 237320.0],\n       ['Buick', 'Qatar', 1993.0, 71209.0],\n       ['Mercedes-Benz', 'Ukraine', 2006.0, 357756.0],\n       ['Volkswagen', 'Luxembourg', 2000.2080173347779, 330812.0],\n       ['Aston Martin', 'Brazil', 2011.0, 65011.0],\n       ['Infiniti', 'Brazil', 2011.0, 260451.41992882563],\n       ['Chrysler', 'China', 2005.0, 469425.0],\n       ['Ford', 'Armenia', 2009.0, 348857.0],\n       ['Kia', 'China', 1997.0, 89389.0],\n       ['Nissan', 'China', 2006.0, 378535.0],\n       ['Land Rover', 'Canada', 2007.0, 260451.41992882563],\n       ['GMC', 'United States', 1994.0, 268612.0],\n       ['BMW', 'Argentina', 1993.0, 186938.0],\n       ['Cadillac', 'Afghanistan', 2009.0, 452493.0],\n       ['Chevrolet', 'South Korea', 1999.0, 44066.0],\n       ['Honda', 'Russia', 2004.0, 89553.0],\n       ['Mazda', 'Libya', 2002.0, 438368.0],\n       ['Mercedes-Benz', 'Venezuela', 1997.0, 207554.0],\n       ['Suzuki', 'Lithuania', 1996.0, 246492.0],\n       ['BMW', 'Brazil', 2008.0, 323867.0],\n       ['Chevrolet', 'Belarus', 2000.2080173347779, 27565.0],\n       ['Toyota', 'Mongolia', 2000.2080173347779, 260451.41992882563],\n       ['Nissan', 'Afghanistan', 2012.0, 433608.0],\n       ['Chevrolet', 'Russia', 2012.0, 376947.0],\n       ['Chevrolet', 'Russia', 2000.2080173347779, 220182.0],\n       ['Infiniti', 'Poland', 2012.0, 479306.0],\n       ['GMC', 'Russia', 2008.0, 260451.41992882563],\n       ['Chevrolet', 'China', 2006.0, 390480.0],\n       ['Cadillac', 'Russia', 1992.0, 45174.0],\n       ['Mitsubishi', 'Thailand', 1988.0, 197048.0],\n       ['Chevrolet', 'Greece', 1999.0, 260451.41992882563],\n       ['Subaru', 'Poland', 2007.0, 393242.0],\n       ['Chevrolet', 'China', 2000.2080173347779, 348963.0],\n       ['Hummer', 'Peru', 1997.0, 60222.0],\n       ['Ford', 'France', 2004.0, 150145.0],\n       ['Chrysler', 'Switzerland', 2000.2080173347779,\n        260451.41992882563],\n       ['Buick', 'Netherlands', 1988.0, 183576.0],\n       ['Scion', 'Kyrgyzstan', 2010.0, 260451.41992882563],\n       ['Chevrolet', 'Indonesia', 2008.0, 423101.0],\n       ['Saturn', 'Sweden', 2009.0, 444106.0],\n       ['GMC', 'Bolivia', 2008.0, 433956.0],\n       ['Mitsubishi', 'Tanzania', 2000.0, 426410.0],\n       ['Acura', 'China', 2000.2080173347779, 172627.0],\n       ['Mercedes-Benz', 'Russia', 2005.0, 199755.0],\n       ['Chevrolet', 'Philippines', 2000.0, 260451.41992882563],\n       ['Chevrolet', 'Philippines', 2003.0, 60622.0],\n       ['Ford', 'China', 2008.0, 44461.0],\n       ['Dodge', 'Poland', 2000.2080173347779, 260451.41992882563],\n       ['Aston Martin', 'China', 2011.0, 44486.0],\n       ['Mitsubishi', 'Indonesia', 1993.0, 367506.0],\n       ['Lincoln', 'Thailand', 2001.0, 383062.0],\n       ['Chrysler', 'Poland', 2001.0, 151286.0],\n       ['Mitsubishi', 'Russia', 2012.0, 13768.0],\n       ['Volkswagen', 'Brazil', 1990.0, 224909.0],\n       ['MINI', 'Sweden', 2012.0, 180517.0],\n       ['Toyota', 'China', 2002.0, 193984.0],\n       ['BMW', 'Poland', 2004.0, 434182.0],\n       ['Honda', 'Indonesia', 1998.0, 260451.41992882563],\n       ['Dodge', 'Indonesia', 2000.0, 157921.0],\n       ['Eagle', 'United Kingdom', 1993.0, 311520.0],\n       ['Porsche', 'Tanzania', 2012.0, 260451.41992882563],\n       ['Nissan', 'Brazil', 1992.0, 368997.0],\n       ['BMW', 'China', 2007.0, 107646.0],\n       ['Ford', 'China', 2009.0, 66534.0],\n       ['BMW', 'China', 2008.0, 198435.0],\n       ['Jeep', 'Georgia', 1997.0, 25228.0],\n       ['Ford', 'Canada', 2012.0, 111854.0],\n       ['Dodge', 'China', 2008.0, 82953.0],\n       ['Toyota', 'China', 2004.0, 278043.0],\n       ['Mercedes-Benz', 'Gambia', 1992.0, 414002.0],\n       ['Chrysler', 'China', 2004.0, 193168.0],\n       ['Isuzu', 'Mexico', 2000.2080173347779, 136926.0],\n       ['Mazda', 'United States', 2003.0, 421022.0],\n       ['Suzuki', 'China', 2005.0, 30243.0],\n       ['Chevrolet', 'Czech Republic', 1995.0, 460050.0],\n       ['BMW', 'Brazil', 2005.0, 145796.0],\n       ['GMC', 'Philippines', 2000.2080173347779, 151152.0],\n       ['GMC', 'Nigeria', 1992.0, 143398.0],\n       ['Pontiac', 'China', 2008.0, 250398.0],\n       ['Ford', 'Finland', 2003.0, 263421.0],\n       ['Honda', 'Dominican Republic', 1986.0, 260451.41992882563],\n       ['Mazda', 'China', 2006.0, 260451.41992882563],\n       ['Porsche', 'Guatemala', 2010.0, 260451.41992882563],\n       ['Hyundai', 'Brazil', 2012.0, 206470.0],\n       ['Dodge', 'Australia', 1995.0, 198998.0],\n       ['Audi', 'Ecuador', 2007.0, 30141.0],\n       ['Mitsubishi', 'China', 2002.0, 366485.0],\n       ['Jeep', 'China', 2010.0, 360582.0],\n       ['Chevrolet', 'Brazil', 2000.2080173347779, 260451.41992882563],\n       ['Mazda', 'Costa Rica', 1984.0, 50998.0],\n       ['Mazda', 'Lithuania', 1991.0, 260451.41992882563],\n       ['Dodge', 'Indonesia', 1999.0, 242288.0],\n       ['Ford', 'China', 2007.0, 469760.0],\n       ['Ford', 'Colombia', 1999.0, 146501.0],\n       ['Chevrolet', 'Canada', 2002.0, 122761.0],\n       ['Oldsmobile', 'Brazil', 1966.0, 37598.0],\n       ['Ford', 'Canada', 2010.0, 426340.0],\n       ['Isuzu', 'Philippines', 1992.0, 260451.41992882563],\n       ['Mercedes-Benz', 'Ukraine', 1999.0, 167526.0],\n       ['Pontiac', 'Indonesia', 1985.0, 431335.0],\n       ['Hyundai', 'Mongolia', 2007.0, 266919.0],\n       ['Ford', 'Indonesia', 1972.0, 244162.0],\n       ['Lexus', 'Tunisia', 1992.0, 262874.0],\n       ['Mazda', 'China', 2000.0, 273020.0],\n       ['Buick', 'Thailand', 1993.0, 149501.0],\n       ['BMW', 'Yemen', 2004.0, 260451.41992882563],\n       ['Ford', 'China', 1987.0, 167603.0],\n       ['Buick', 'Indonesia', 1993.0, 448138.0],\n       ['Nissan', 'China', 2006.0, 260451.41992882563],\n       ['Volkswagen', 'Syria', 1987.0, 213231.0],\n       ['Dodge', 'Philippines', 1997.0, 355219.0],\n       ['Ford', 'Ecuador', 1985.0, 489548.0],\n       ['Ford', 'China', 1990.0, 118076.0],\n       ['GMC', 'Argentina', 1992.0, 209422.0],\n       ['Jaguar', 'Indonesia', 2005.0, 130893.0],\n       ['Maserati', 'Portugal', 1990.0, 462087.0],\n       ['Honda', 'Sweden', 2010.0, 403390.0],\n       ['Pontiac', 'Colombia', 1990.0, 270926.0],\n       ['Chevrolet', 'United States', 2000.2080173347779,\n        260451.41992882563],\n       ['Volkswagen', 'China', 2012.0, 429677.0],\n       ['Suzuki', 'United States', 1992.0, 85393.0],\n       ['Chevrolet', 'Philippines', 2011.0, 23586.0],\n       ['Mitsubishi', 'Zimbabwe', 2000.2080173347779, 61484.0],\n       ['Hummer', 'Tunisia', 2008.0, 380877.0],\n       ['Hyundai', 'Latvia', 2010.0, 400361.0],\n       ['Honda', 'Brazil', 2000.2080173347779, 319243.0],\n       ['Oldsmobile', 'Indonesia', 1997.0, 309915.0],\n       ['Toyota', 'Philippines', 1998.0, 422032.0],\n       ['Geo', 'Vietnam', 1994.0, 21380.0],\n       ['Ford', 'Kazakhstan', 2001.0, 51011.0],\n       ['Eagle', 'Indonesia', 1993.0, 443015.0],\n       ['Chevrolet', 'Brazil', 2007.0, 243039.0],\n       ['Ford', 'Sweden', 1994.0, 363981.0],\n       ['Audi', 'Indonesia', 2000.2080173347779, 457953.0],\n       ['Hillman', 'Germany', 1950.0, 172828.0],\n       ['Acura', 'Brazil', 2003.0, 228699.0],\n       ['Pontiac', 'Egypt', 2009.0, 306312.0],\n       ['Volvo', 'Poland', 2011.0, 302444.0],\n       ['Mitsubishi', 'Indonesia', 2000.0, 101308.0],\n       ['Chevrolet', 'Democratic Republic of the Congo', 2005.0,\n        262337.0],\n       ['Acura', 'Guadeloupe', 2001.0, 474685.0],\n       ['Kia', 'Canada', 2000.0, 355856.0],\n       ['GMC', 'Indonesia', 1993.0, 62997.0],\n       ['Ford', 'Russia', 1987.0, 395650.0],\n       ['Volkswagen', 'China', 1988.0, 158170.0],\n       ['Mazda', 'Japan', 2012.0, 295640.0],\n       ['Oldsmobile', 'Russia', 1999.0, 227828.0],\n       ['Toyota', 'Russia', 2006.0, 32516.0],\n       ['Nissan', 'France', 1999.0, 445495.0],\n       ['Mercedes-Benz', 'China', 2000.2080173347779, 313685.0],\n       ['Chevrolet', 'Finland', 2003.0, 192426.0],\n       ['Mazda', 'Finland', 2008.0, 212778.0],\n       ['Audi', 'Sweden', 2007.0, 300404.0],\n       ['Mercedes-Benz', 'Czech Republic', 2011.0, 389482.0],\n       ['Chevrolet', 'Japan', 2004.0, 472949.0],\n       ['Mitsubishi', 'France', 1997.0, 486980.0],\n       ['Mercury', 'Colombia', 1998.0, 362119.0],\n       ['Dodge', 'Bangladesh', 1995.0, 419227.0],\n       ['Chevrolet', 'Philippines', 2011.0, 74417.0],\n       ['Ford', 'South Africa', 2009.0, 350484.0]], dtype=object)"
     },
     "execution_count": 56,
     "metadata": {},
     "output_type": "execute_result"
    }
   ],
   "source": [
    "X_test"
   ],
   "metadata": {
    "collapsed": false,
    "ExecuteTime": {
     "end_time": "2024-11-18T03:22:21.169669700Z",
     "start_time": "2024-11-18T03:22:21.135176300Z"
    }
   },
   "id": "c483017cdf93d42d",
   "execution_count": 56
  },
  {
   "cell_type": "code",
   "outputs": [
    {
     "data": {
      "text/plain": "array([0, 1, 0, 1, 1, 0, 0, 0, 0, 0, 0, 1, 0, 1, 1, 1, 1, 1, 1, 1, 0, 1,\n       0, 1, 0, 0, 0, 0, 0, 0, 0, 0, 1, 1, 0, 0, 1, 1, 1, 1, 0, 0, 1, 0,\n       0, 0, 1, 0, 0, 1, 0, 0, 1, 0, 0, 1, 0, 0, 0, 0, 0, 1, 1, 0, 0, 0,\n       0, 0, 0, 0, 1, 0, 0, 0, 0, 0, 0, 0, 1, 0, 1, 0, 0, 1, 1, 0, 0, 0,\n       0, 0, 1, 1, 1, 1, 1, 0, 1, 0, 0, 0, 1, 0, 0, 0, 0, 0, 1, 0, 0, 0,\n       0, 1, 0, 0, 1, 0, 0, 1, 1, 1, 0, 1, 1, 1, 1, 1, 1, 0, 1, 1, 0, 0,\n       1, 0, 0, 1, 1, 1, 0, 1, 0, 1, 1, 0, 0, 0, 1, 1, 1, 0, 1, 1, 1, 1,\n       1, 0, 0, 1, 1, 0, 0, 1, 0, 0, 1, 0, 1, 1, 0, 1, 0, 1, 0, 1, 1, 0,\n       1, 0, 0, 1, 1, 0, 0, 0, 0, 1, 1, 1, 0, 1, 0, 0, 0, 1, 1, 1, 0, 1,\n       1, 0])"
     },
     "execution_count": 57,
     "metadata": {},
     "output_type": "execute_result"
    }
   ],
   "source": [
    "y_test"
   ],
   "metadata": {
    "collapsed": false,
    "ExecuteTime": {
     "end_time": "2024-11-18T03:22:21.189672100Z",
     "start_time": "2024-11-18T03:22:21.145756500Z"
    }
   },
   "id": "717d748fee298a55",
   "execution_count": 57
  }
 ],
 "metadata": {
  "kernelspec": {
   "display_name": "Python 3",
   "language": "python",
   "name": "python3"
  },
  "language_info": {
   "codemirror_mode": {
    "name": "ipython",
    "version": 2
   },
   "file_extension": ".py",
   "mimetype": "text/x-python",
   "name": "python",
   "nbconvert_exporter": "python",
   "pygments_lexer": "ipython2",
   "version": "2.7.6"
  }
 },
 "nbformat": 4,
 "nbformat_minor": 5
}
