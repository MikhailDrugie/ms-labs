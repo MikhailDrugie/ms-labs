{
 "cells": [
  {
   "cell_type": "markdown",
   "source": [
    "# Лабораторная работа №7\n",
    "\n",
    "# Использование разработанного пайплайна для многомерной регрессии\n",
    "\n",
    "## Подключение библиотек"
   ],
   "metadata": {
    "collapsed": false
   },
   "id": "b44617ee881e79a6"
  },
  {
   "cell_type": "code",
   "outputs": [],
   "source": [
    "import numpy as np\n",
    "import matplotlib.pyplot as plt\n",
    "import pandas as pd"
   ],
   "metadata": {
    "collapsed": false,
    "ExecuteTime": {
     "end_time": "2024-11-18T03:22:37.354051900Z",
     "start_time": "2024-11-18T03:22:37.343471600Z"
    }
   },
   "id": "f05de8e496ae952d",
   "execution_count": 91
  },
  {
   "cell_type": "markdown",
   "source": [
    "## Загрузка данных и разделение на матрицу признаков и зависимую переменную"
   ],
   "metadata": {
    "collapsed": false
   },
   "id": "f6eb7b64d6363390"
  },
  {
   "cell_type": "code",
   "outputs": [
    {
     "data": {
      "text/plain": "   fixed acidity  volatile acidity  citric acid  residual sugar  chlorides  \\\n0            7.4              0.70         0.00             1.9      0.076   \n1            7.8              0.88         0.00             2.6      0.098   \n2            7.8              0.76         0.04             2.3      0.092   \n3           11.2              0.28         0.56             1.9      0.075   \n4            7.4              0.70         0.00             1.9      0.076   \n\n   free sulfur dioxide  total sulfur dioxide  density    pH  sulphates  \\\n0                 11.0                  34.0   0.9978  3.51       0.56   \n1                 25.0                  67.0   0.9968  3.20       0.68   \n2                 15.0                  54.0   0.9970  3.26       0.65   \n3                 17.0                  60.0   0.9980  3.16       0.58   \n4                 11.0                  34.0   0.9978  3.51       0.56   \n\n   alcohol  quality  \n0      9.4        5  \n1      9.8        5  \n2      9.8        5  \n3      9.8        6  \n4      9.4        5  ",
      "text/html": "<div>\n<style scoped>\n    .dataframe tbody tr th:only-of-type {\n        vertical-align: middle;\n    }\n\n    .dataframe tbody tr th {\n        vertical-align: top;\n    }\n\n    .dataframe thead th {\n        text-align: right;\n    }\n</style>\n<table border=\"1\" class=\"dataframe\">\n  <thead>\n    <tr style=\"text-align: right;\">\n      <th></th>\n      <th>fixed acidity</th>\n      <th>volatile acidity</th>\n      <th>citric acid</th>\n      <th>residual sugar</th>\n      <th>chlorides</th>\n      <th>free sulfur dioxide</th>\n      <th>total sulfur dioxide</th>\n      <th>density</th>\n      <th>pH</th>\n      <th>sulphates</th>\n      <th>alcohol</th>\n      <th>quality</th>\n    </tr>\n  </thead>\n  <tbody>\n    <tr>\n      <th>0</th>\n      <td>7.4</td>\n      <td>0.70</td>\n      <td>0.00</td>\n      <td>1.9</td>\n      <td>0.076</td>\n      <td>11.0</td>\n      <td>34.0</td>\n      <td>0.9978</td>\n      <td>3.51</td>\n      <td>0.56</td>\n      <td>9.4</td>\n      <td>5</td>\n    </tr>\n    <tr>\n      <th>1</th>\n      <td>7.8</td>\n      <td>0.88</td>\n      <td>0.00</td>\n      <td>2.6</td>\n      <td>0.098</td>\n      <td>25.0</td>\n      <td>67.0</td>\n      <td>0.9968</td>\n      <td>3.20</td>\n      <td>0.68</td>\n      <td>9.8</td>\n      <td>5</td>\n    </tr>\n    <tr>\n      <th>2</th>\n      <td>7.8</td>\n      <td>0.76</td>\n      <td>0.04</td>\n      <td>2.3</td>\n      <td>0.092</td>\n      <td>15.0</td>\n      <td>54.0</td>\n      <td>0.9970</td>\n      <td>3.26</td>\n      <td>0.65</td>\n      <td>9.8</td>\n      <td>5</td>\n    </tr>\n    <tr>\n      <th>3</th>\n      <td>11.2</td>\n      <td>0.28</td>\n      <td>0.56</td>\n      <td>1.9</td>\n      <td>0.075</td>\n      <td>17.0</td>\n      <td>60.0</td>\n      <td>0.9980</td>\n      <td>3.16</td>\n      <td>0.58</td>\n      <td>9.8</td>\n      <td>6</td>\n    </tr>\n    <tr>\n      <th>4</th>\n      <td>7.4</td>\n      <td>0.70</td>\n      <td>0.00</td>\n      <td>1.9</td>\n      <td>0.076</td>\n      <td>11.0</td>\n      <td>34.0</td>\n      <td>0.9978</td>\n      <td>3.51</td>\n      <td>0.56</td>\n      <td>9.4</td>\n      <td>5</td>\n    </tr>\n  </tbody>\n</table>\n</div>"
     },
     "execution_count": 92,
     "metadata": {},
     "output_type": "execute_result"
    }
   ],
   "source": [
    "dataset = pd.read_csv('winequality-red.csv', delimiter=';')\n",
    "dataset.head()"
   ],
   "metadata": {
    "collapsed": false,
    "ExecuteTime": {
     "end_time": "2024-11-18T03:22:37.381457200Z",
     "start_time": "2024-11-18T03:22:37.348050700Z"
    }
   },
   "id": "14f9ea3b9aa95d7d",
   "execution_count": 92
  },
  {
   "cell_type": "code",
   "outputs": [
    {
     "name": "stdout",
     "output_type": "stream",
     "text": [
      "Матрица признаков\n",
      "[[7.400e+00 7.000e-01 0.000e+00 1.900e+00 7.600e-02 1.100e+01 3.400e+01\n",
      "  9.978e-01 3.510e+00 5.600e-01 9.400e+00]\n",
      " [7.800e+00 8.800e-01 0.000e+00 2.600e+00 9.800e-02 2.500e+01 6.700e+01\n",
      "  9.968e-01 3.200e+00 6.800e-01 9.800e+00]\n",
      " [7.800e+00 7.600e-01 4.000e-02 2.300e+00 9.200e-02 1.500e+01 5.400e+01\n",
      "  9.970e-01 3.260e+00 6.500e-01 9.800e+00]\n",
      " [1.120e+01 2.800e-01 5.600e-01 1.900e+00 7.500e-02 1.700e+01 6.000e+01\n",
      "  9.980e-01 3.160e+00 5.800e-01 9.800e+00]\n",
      " [7.400e+00 7.000e-01 0.000e+00 1.900e+00 7.600e-02 1.100e+01 3.400e+01\n",
      "  9.978e-01 3.510e+00 5.600e-01 9.400e+00]]\n",
      "Зависимая переменная\n",
      "[5 5 5 6 5]\n"
     ]
    }
   ],
   "source": [
    "X = dataset.iloc[:, :-1].values\n",
    "y = dataset.iloc[:, -1].values\n",
    "print (\"Матрица признаков\"); print(X[:5])\n",
    "print (\"Зависимая переменная\"); print(y[:5])"
   ],
   "metadata": {
    "collapsed": false,
    "ExecuteTime": {
     "end_time": "2024-11-18T03:22:37.381457200Z",
     "start_time": "2024-11-18T03:22:37.364788500Z"
    }
   },
   "id": "552fa81416e65d8c",
   "execution_count": 93
  },
  {
   "cell_type": "markdown",
   "source": [
    "## Обработка пропущенных значений\n",
    "пропущенных значений нет"
   ],
   "metadata": {
    "collapsed": false
   },
   "id": "fe98dc837bb068b7"
  },
  {
   "cell_type": "markdown",
   "source": [
    "## Обработка категориальных данных\n",
    "категориальных данных нет"
   ],
   "metadata": {
    "collapsed": false
   },
   "id": "89de27a7ad64a4d7"
  },
  {
   "cell_type": "markdown",
   "source": [
    "## Разделение выборки на тестовую и тренировочную"
   ],
   "metadata": {
    "collapsed": false
   },
   "id": "367b643ea603d4b9"
  },
  {
   "cell_type": "code",
   "outputs": [],
   "source": [
    "from sklearn.model_selection import train_test_split\n",
    "X_train, X_test, y_train, y_test = train_test_split(X, y, test_size = 0.2, random_state = 0)"
   ],
   "metadata": {
    "collapsed": false,
    "ExecuteTime": {
     "end_time": "2024-11-18T03:22:37.381457200Z",
     "start_time": "2024-11-18T03:22:37.371328100Z"
    }
   },
   "id": "dbe8e1413cfc8a98",
   "execution_count": 94
  },
  {
   "cell_type": "markdown",
   "source": [
    "## Обучение линейной модели регрессии"
   ],
   "metadata": {
    "collapsed": false
   },
   "id": "61dd622488fe7f23"
  },
  {
   "cell_type": "code",
   "outputs": [
    {
     "data": {
      "text/plain": "LinearRegression()",
      "text/html": "<style>#sk-container-id-12 {\n  /* Definition of color scheme common for light and dark mode */\n  --sklearn-color-text: black;\n  --sklearn-color-line: gray;\n  /* Definition of color scheme for unfitted estimators */\n  --sklearn-color-unfitted-level-0: #fff5e6;\n  --sklearn-color-unfitted-level-1: #f6e4d2;\n  --sklearn-color-unfitted-level-2: #ffe0b3;\n  --sklearn-color-unfitted-level-3: chocolate;\n  /* Definition of color scheme for fitted estimators */\n  --sklearn-color-fitted-level-0: #f0f8ff;\n  --sklearn-color-fitted-level-1: #d4ebff;\n  --sklearn-color-fitted-level-2: #b3dbfd;\n  --sklearn-color-fitted-level-3: cornflowerblue;\n\n  /* Specific color for light theme */\n  --sklearn-color-text-on-default-background: var(--sg-text-color, var(--theme-code-foreground, var(--jp-content-font-color1, black)));\n  --sklearn-color-background: var(--sg-background-color, var(--theme-background, var(--jp-layout-color0, white)));\n  --sklearn-color-border-box: var(--sg-text-color, var(--theme-code-foreground, var(--jp-content-font-color1, black)));\n  --sklearn-color-icon: #696969;\n\n  @media (prefers-color-scheme: dark) {\n    /* Redefinition of color scheme for dark theme */\n    --sklearn-color-text-on-default-background: var(--sg-text-color, var(--theme-code-foreground, var(--jp-content-font-color1, white)));\n    --sklearn-color-background: var(--sg-background-color, var(--theme-background, var(--jp-layout-color0, #111)));\n    --sklearn-color-border-box: var(--sg-text-color, var(--theme-code-foreground, var(--jp-content-font-color1, white)));\n    --sklearn-color-icon: #878787;\n  }\n}\n\n#sk-container-id-12 {\n  color: var(--sklearn-color-text);\n}\n\n#sk-container-id-12 pre {\n  padding: 0;\n}\n\n#sk-container-id-12 input.sk-hidden--visually {\n  border: 0;\n  clip: rect(1px 1px 1px 1px);\n  clip: rect(1px, 1px, 1px, 1px);\n  height: 1px;\n  margin: -1px;\n  overflow: hidden;\n  padding: 0;\n  position: absolute;\n  width: 1px;\n}\n\n#sk-container-id-12 div.sk-dashed-wrapped {\n  border: 1px dashed var(--sklearn-color-line);\n  margin: 0 0.4em 0.5em 0.4em;\n  box-sizing: border-box;\n  padding-bottom: 0.4em;\n  background-color: var(--sklearn-color-background);\n}\n\n#sk-container-id-12 div.sk-container {\n  /* jupyter's `normalize.less` sets `[hidden] { display: none; }`\n     but bootstrap.min.css set `[hidden] { display: none !important; }`\n     so we also need the `!important` here to be able to override the\n     default hidden behavior on the sphinx rendered scikit-learn.org.\n     See: https://github.com/scikit-learn/scikit-learn/issues/21755 */\n  display: inline-block !important;\n  position: relative;\n}\n\n#sk-container-id-12 div.sk-text-repr-fallback {\n  display: none;\n}\n\ndiv.sk-parallel-item,\ndiv.sk-serial,\ndiv.sk-item {\n  /* draw centered vertical line to link estimators */\n  background-image: linear-gradient(var(--sklearn-color-text-on-default-background), var(--sklearn-color-text-on-default-background));\n  background-size: 2px 100%;\n  background-repeat: no-repeat;\n  background-position: center center;\n}\n\n/* Parallel-specific style estimator block */\n\n#sk-container-id-12 div.sk-parallel-item::after {\n  content: \"\";\n  width: 100%;\n  border-bottom: 2px solid var(--sklearn-color-text-on-default-background);\n  flex-grow: 1;\n}\n\n#sk-container-id-12 div.sk-parallel {\n  display: flex;\n  align-items: stretch;\n  justify-content: center;\n  background-color: var(--sklearn-color-background);\n  position: relative;\n}\n\n#sk-container-id-12 div.sk-parallel-item {\n  display: flex;\n  flex-direction: column;\n}\n\n#sk-container-id-12 div.sk-parallel-item:first-child::after {\n  align-self: flex-end;\n  width: 50%;\n}\n\n#sk-container-id-12 div.sk-parallel-item:last-child::after {\n  align-self: flex-start;\n  width: 50%;\n}\n\n#sk-container-id-12 div.sk-parallel-item:only-child::after {\n  width: 0;\n}\n\n/* Serial-specific style estimator block */\n\n#sk-container-id-12 div.sk-serial {\n  display: flex;\n  flex-direction: column;\n  align-items: center;\n  background-color: var(--sklearn-color-background);\n  padding-right: 1em;\n  padding-left: 1em;\n}\n\n\n/* Toggleable style: style used for estimator/Pipeline/ColumnTransformer box that is\nclickable and can be expanded/collapsed.\n- Pipeline and ColumnTransformer use this feature and define the default style\n- Estimators will overwrite some part of the style using the `sk-estimator` class\n*/\n\n/* Pipeline and ColumnTransformer style (default) */\n\n#sk-container-id-12 div.sk-toggleable {\n  /* Default theme specific background. It is overwritten whether we have a\n  specific estimator or a Pipeline/ColumnTransformer */\n  background-color: var(--sklearn-color-background);\n}\n\n/* Toggleable label */\n#sk-container-id-12 label.sk-toggleable__label {\n  cursor: pointer;\n  display: block;\n  width: 100%;\n  margin-bottom: 0;\n  padding: 0.5em;\n  box-sizing: border-box;\n  text-align: center;\n}\n\n#sk-container-id-12 label.sk-toggleable__label-arrow:before {\n  /* Arrow on the left of the label */\n  content: \"▸\";\n  float: left;\n  margin-right: 0.25em;\n  color: var(--sklearn-color-icon);\n}\n\n#sk-container-id-12 label.sk-toggleable__label-arrow:hover:before {\n  color: var(--sklearn-color-text);\n}\n\n/* Toggleable content - dropdown */\n\n#sk-container-id-12 div.sk-toggleable__content {\n  max-height: 0;\n  max-width: 0;\n  overflow: hidden;\n  text-align: left;\n  /* unfitted */\n  background-color: var(--sklearn-color-unfitted-level-0);\n}\n\n#sk-container-id-12 div.sk-toggleable__content.fitted {\n  /* fitted */\n  background-color: var(--sklearn-color-fitted-level-0);\n}\n\n#sk-container-id-12 div.sk-toggleable__content pre {\n  margin: 0.2em;\n  border-radius: 0.25em;\n  color: var(--sklearn-color-text);\n  /* unfitted */\n  background-color: var(--sklearn-color-unfitted-level-0);\n}\n\n#sk-container-id-12 div.sk-toggleable__content.fitted pre {\n  /* unfitted */\n  background-color: var(--sklearn-color-fitted-level-0);\n}\n\n#sk-container-id-12 input.sk-toggleable__control:checked~div.sk-toggleable__content {\n  /* Expand drop-down */\n  max-height: 200px;\n  max-width: 100%;\n  overflow: auto;\n}\n\n#sk-container-id-12 input.sk-toggleable__control:checked~label.sk-toggleable__label-arrow:before {\n  content: \"▾\";\n}\n\n/* Pipeline/ColumnTransformer-specific style */\n\n#sk-container-id-12 div.sk-label input.sk-toggleable__control:checked~label.sk-toggleable__label {\n  color: var(--sklearn-color-text);\n  background-color: var(--sklearn-color-unfitted-level-2);\n}\n\n#sk-container-id-12 div.sk-label.fitted input.sk-toggleable__control:checked~label.sk-toggleable__label {\n  background-color: var(--sklearn-color-fitted-level-2);\n}\n\n/* Estimator-specific style */\n\n/* Colorize estimator box */\n#sk-container-id-12 div.sk-estimator input.sk-toggleable__control:checked~label.sk-toggleable__label {\n  /* unfitted */\n  background-color: var(--sklearn-color-unfitted-level-2);\n}\n\n#sk-container-id-12 div.sk-estimator.fitted input.sk-toggleable__control:checked~label.sk-toggleable__label {\n  /* fitted */\n  background-color: var(--sklearn-color-fitted-level-2);\n}\n\n#sk-container-id-12 div.sk-label label.sk-toggleable__label,\n#sk-container-id-12 div.sk-label label {\n  /* The background is the default theme color */\n  color: var(--sklearn-color-text-on-default-background);\n}\n\n/* On hover, darken the color of the background */\n#sk-container-id-12 div.sk-label:hover label.sk-toggleable__label {\n  color: var(--sklearn-color-text);\n  background-color: var(--sklearn-color-unfitted-level-2);\n}\n\n/* Label box, darken color on hover, fitted */\n#sk-container-id-12 div.sk-label.fitted:hover label.sk-toggleable__label.fitted {\n  color: var(--sklearn-color-text);\n  background-color: var(--sklearn-color-fitted-level-2);\n}\n\n/* Estimator label */\n\n#sk-container-id-12 div.sk-label label {\n  font-family: monospace;\n  font-weight: bold;\n  display: inline-block;\n  line-height: 1.2em;\n}\n\n#sk-container-id-12 div.sk-label-container {\n  text-align: center;\n}\n\n/* Estimator-specific */\n#sk-container-id-12 div.sk-estimator {\n  font-family: monospace;\n  border: 1px dotted var(--sklearn-color-border-box);\n  border-radius: 0.25em;\n  box-sizing: border-box;\n  margin-bottom: 0.5em;\n  /* unfitted */\n  background-color: var(--sklearn-color-unfitted-level-0);\n}\n\n#sk-container-id-12 div.sk-estimator.fitted {\n  /* fitted */\n  background-color: var(--sklearn-color-fitted-level-0);\n}\n\n/* on hover */\n#sk-container-id-12 div.sk-estimator:hover {\n  /* unfitted */\n  background-color: var(--sklearn-color-unfitted-level-2);\n}\n\n#sk-container-id-12 div.sk-estimator.fitted:hover {\n  /* fitted */\n  background-color: var(--sklearn-color-fitted-level-2);\n}\n\n/* Specification for estimator info (e.g. \"i\" and \"?\") */\n\n/* Common style for \"i\" and \"?\" */\n\n.sk-estimator-doc-link,\na:link.sk-estimator-doc-link,\na:visited.sk-estimator-doc-link {\n  float: right;\n  font-size: smaller;\n  line-height: 1em;\n  font-family: monospace;\n  background-color: var(--sklearn-color-background);\n  border-radius: 1em;\n  height: 1em;\n  width: 1em;\n  text-decoration: none !important;\n  margin-left: 1ex;\n  /* unfitted */\n  border: var(--sklearn-color-unfitted-level-1) 1pt solid;\n  color: var(--sklearn-color-unfitted-level-1);\n}\n\n.sk-estimator-doc-link.fitted,\na:link.sk-estimator-doc-link.fitted,\na:visited.sk-estimator-doc-link.fitted {\n  /* fitted */\n  border: var(--sklearn-color-fitted-level-1) 1pt solid;\n  color: var(--sklearn-color-fitted-level-1);\n}\n\n/* On hover */\ndiv.sk-estimator:hover .sk-estimator-doc-link:hover,\n.sk-estimator-doc-link:hover,\ndiv.sk-label-container:hover .sk-estimator-doc-link:hover,\n.sk-estimator-doc-link:hover {\n  /* unfitted */\n  background-color: var(--sklearn-color-unfitted-level-3);\n  color: var(--sklearn-color-background);\n  text-decoration: none;\n}\n\ndiv.sk-estimator.fitted:hover .sk-estimator-doc-link.fitted:hover,\n.sk-estimator-doc-link.fitted:hover,\ndiv.sk-label-container:hover .sk-estimator-doc-link.fitted:hover,\n.sk-estimator-doc-link.fitted:hover {\n  /* fitted */\n  background-color: var(--sklearn-color-fitted-level-3);\n  color: var(--sklearn-color-background);\n  text-decoration: none;\n}\n\n/* Span, style for the box shown on hovering the info icon */\n.sk-estimator-doc-link span {\n  display: none;\n  z-index: 9999;\n  position: relative;\n  font-weight: normal;\n  right: .2ex;\n  padding: .5ex;\n  margin: .5ex;\n  width: min-content;\n  min-width: 20ex;\n  max-width: 50ex;\n  color: var(--sklearn-color-text);\n  box-shadow: 2pt 2pt 4pt #999;\n  /* unfitted */\n  background: var(--sklearn-color-unfitted-level-0);\n  border: .5pt solid var(--sklearn-color-unfitted-level-3);\n}\n\n.sk-estimator-doc-link.fitted span {\n  /* fitted */\n  background: var(--sklearn-color-fitted-level-0);\n  border: var(--sklearn-color-fitted-level-3);\n}\n\n.sk-estimator-doc-link:hover span {\n  display: block;\n}\n\n/* \"?\"-specific style due to the `<a>` HTML tag */\n\n#sk-container-id-12 a.estimator_doc_link {\n  float: right;\n  font-size: 1rem;\n  line-height: 1em;\n  font-family: monospace;\n  background-color: var(--sklearn-color-background);\n  border-radius: 1rem;\n  height: 1rem;\n  width: 1rem;\n  text-decoration: none;\n  /* unfitted */\n  color: var(--sklearn-color-unfitted-level-1);\n  border: var(--sklearn-color-unfitted-level-1) 1pt solid;\n}\n\n#sk-container-id-12 a.estimator_doc_link.fitted {\n  /* fitted */\n  border: var(--sklearn-color-fitted-level-1) 1pt solid;\n  color: var(--sklearn-color-fitted-level-1);\n}\n\n/* On hover */\n#sk-container-id-12 a.estimator_doc_link:hover {\n  /* unfitted */\n  background-color: var(--sklearn-color-unfitted-level-3);\n  color: var(--sklearn-color-background);\n  text-decoration: none;\n}\n\n#sk-container-id-12 a.estimator_doc_link.fitted:hover {\n  /* fitted */\n  background-color: var(--sklearn-color-fitted-level-3);\n}\n</style><div id=\"sk-container-id-12\" class=\"sk-top-container\"><div class=\"sk-text-repr-fallback\"><pre>LinearRegression()</pre><b>In a Jupyter environment, please rerun this cell to show the HTML representation or trust the notebook. <br />On GitHub, the HTML representation is unable to render, please try loading this page with nbviewer.org.</b></div><div class=\"sk-container\" hidden><div class=\"sk-item\"><div class=\"sk-estimator fitted sk-toggleable\"><input class=\"sk-toggleable__control sk-hidden--visually\" id=\"sk-estimator-id-12\" type=\"checkbox\" checked><label for=\"sk-estimator-id-12\" class=\"sk-toggleable__label fitted sk-toggleable__label-arrow fitted\">&nbsp;&nbsp;LinearRegression<a class=\"sk-estimator-doc-link fitted\" rel=\"noreferrer\" target=\"_blank\" href=\"https://scikit-learn.org/1.5/modules/generated/sklearn.linear_model.LinearRegression.html\">?<span>Documentation for LinearRegression</span></a><span class=\"sk-estimator-doc-link fitted\">i<span>Fitted</span></span></label><div class=\"sk-toggleable__content fitted\"><pre>LinearRegression()</pre></div> </div></div></div></div>"
     },
     "execution_count": 95,
     "metadata": {},
     "output_type": "execute_result"
    }
   ],
   "source": [
    "from sklearn.linear_model import LinearRegression\n",
    "regressor = LinearRegression()\n",
    "regressor.fit(X_train, y_train)"
   ],
   "metadata": {
    "collapsed": false,
    "ExecuteTime": {
     "end_time": "2024-11-18T03:22:37.390569400Z",
     "start_time": "2024-11-18T03:22:37.379456300Z"
    }
   },
   "id": "803ff3fc01875117",
   "execution_count": 95
  },
  {
   "cell_type": "markdown",
   "source": [
    "## Обработка результатов, тюнинг модели\n",
    "\n",
    "### Предсказание"
   ],
   "metadata": {
    "collapsed": false
   },
   "id": "52bbfd0b3ed5e950"
  },
  {
   "cell_type": "code",
   "outputs": [
    {
     "name": "stdout",
     "output_type": "stream",
     "text": [
      "[5.7829301  5.03619267 6.59698929 5.33912637 5.93952898 5.0072068\n",
      " 5.39616171 6.05211188 4.86760343 4.95067572 5.28580441 5.41265269\n",
      " 5.7057424  5.12921737 5.52885206 6.38052412 6.81012527 5.73803346\n",
      " 5.97618825 5.08613415 6.34479863 5.16400983 5.64203971 6.1462903\n",
      " 5.4817802  5.03391406 5.18721293 6.48783659 5.33301372 6.30458308\n",
      " 6.03452293 5.82849303 5.58503524 5.28512701 5.75656128 6.15273792\n",
      " 5.14134479 5.48228021 6.38983359 5.7901819  5.42936928 6.04810414\n",
      " 6.70159678 6.60160183 5.97253803 4.78890763 5.49565005 6.01881894\n",
      " 5.48895041 6.10824243 5.3126164  5.28492351 5.76043226 6.36081498\n",
      " 5.7195388  5.26971928 5.08498332 5.31050693 6.50895816 5.44323413\n",
      " 5.16377401 5.76427324 6.0703837  6.28933679 5.07315141 6.11874641\n",
      " 5.35681067 6.01343647 6.12184268 5.98547673 5.35327968 5.4367731\n",
      " 5.06017324 5.58939889 5.62593935 6.25651326 5.37875073 5.31024191\n",
      " 5.72008022 6.30275434 5.71093253 5.27783285 5.89582077 6.0876033\n",
      " 5.50616533 5.37465715 6.2437351  5.07332478 5.32665801 4.97398339\n",
      " 5.15975198 5.3222433  5.80802642 5.41018532 6.20608506 5.35327968\n",
      " 6.29102872 5.3563169  5.44615319 5.91167448 6.8638794  5.95652806\n",
      " 5.78388971 6.29371091 5.59599754 4.95365311 5.59599754 5.42146389\n",
      " 6.01303846 5.27638601 5.88672069 5.12760247 6.2448062  5.02250118\n",
      " 5.61019652 5.78465194 5.67109764 6.40669755 5.80411913 5.64203971\n",
      " 5.1425518  5.90518858 5.40535036 5.08051616 6.21318148 6.31555382\n",
      " 5.31479331 5.43479319 6.00371415 6.44580043 5.42123137 5.21176713\n",
      " 6.0115925  5.82456823 6.30161065 5.2778688  5.89171326 5.27523169\n",
      " 6.06991874 5.33404791 6.01515226 5.09525238 5.49565005 5.26881614\n",
      " 5.6457977  5.7407852  6.2448062  6.40720033 6.25146759 5.27789573\n",
      " 5.91333663 5.90495368 5.42146389 5.51302494 5.54847605 5.40070493\n",
      " 5.08033848 5.3510922  6.22327966 6.09839802 5.93181807 5.58654048\n",
      " 6.28448742 5.12182863 5.92703798 5.02880639 6.02096889 6.48614221\n",
      " 5.47510197 5.95369102 5.96856352 5.52714605 4.99032758 6.61783587\n",
      " 5.83168392 6.27155921 6.1696774  6.82398109 6.09221279 4.79911152\n",
      " 5.08007664 6.97183788 5.47185136 6.15652237 6.76814871 5.01090071\n",
      " 5.64760285 5.78388971 4.99837302 6.13355739 6.07096526 5.90429107\n",
      " 5.15557434 5.46274017 5.18721745 5.16438178 5.28580441 5.14635187\n",
      " 5.23327742 5.13457255 5.25484703 6.16206701 5.16430349 5.29976489\n",
      " 5.41360202 4.95989181 5.08718841 6.34194262 6.02109942 5.40945753\n",
      " 5.93102776 6.16931767 5.35093909 6.37326597 5.00471968 5.44868099\n",
      " 5.90152973 6.03130172 5.56044971 5.00135995 5.03938153 5.93018212\n",
      " 6.39367602 5.74511903 5.42761053 6.01275242 6.38386771 5.76122648\n",
      " 4.82219859 5.46878592 5.04430938 5.90506617 5.06816998 5.87105926\n",
      " 6.25707687 5.63526985 6.1124061  6.58032257 6.51304421 6.12637713\n",
      " 5.34985341 4.91834558 5.02633902 5.10209868 5.93751622 4.82726361\n",
      " 5.58643272 5.25007252 4.87286412 6.34221756 4.87320824 5.26969753\n",
      " 4.89400677 5.33869588 5.52716577 5.53897238 5.12721593 5.06001131\n",
      " 5.13911179 5.59628108 5.34085607 6.96723853 5.31357668 5.6468939\n",
      " 5.24038769 4.69060078 5.33061878 4.97930332 5.60209709 6.49226284\n",
      " 5.72883634 5.7319909  5.63538976 6.086924   5.92577835 5.85174439\n",
      " 6.37461452 5.18497794 6.56584684 6.14312626 5.37501664 6.91651759\n",
      " 5.7319909  6.34086207 5.78421572 5.18439125 5.54950551 5.33360868\n",
      " 6.269919   5.88265344 5.68163948 5.42086654 6.12538899 5.31406745\n",
      " 5.19528191 5.70178575 5.5675469  5.14670499 5.15556398 5.24007613\n",
      " 5.69892321 5.06382643 5.35893169 5.69605721 6.10381152 5.84992365\n",
      " 5.33722415 5.05158628 5.59207818 5.30872494 5.91032222 5.92390941\n",
      " 5.3494868  5.3563169  5.10159886 6.55975683 6.01757571 6.25129053\n",
      " 5.16392559 6.36720517]\n"
     ]
    }
   ],
   "source": [
    "y_pred = regressor.predict(X_test)\n",
    "print(y_pred)"
   ],
   "metadata": {
    "collapsed": false,
    "ExecuteTime": {
     "end_time": "2024-11-18T03:22:37.428593200Z",
     "start_time": "2024-11-18T03:22:37.390569400Z"
    }
   },
   "id": "215f31745b80df4c",
   "execution_count": 96
  },
  {
   "cell_type": "markdown",
   "source": [
    "### Оптимизация модели"
   ],
   "metadata": {
    "collapsed": false
   },
   "id": "d3edeada3f5a5be"
  },
  {
   "cell_type": "code",
   "outputs": [
    {
     "name": "stdout",
     "output_type": "stream",
     "text": [
      "                            OLS Regression Results                            \n",
      "==============================================================================\n",
      "Dep. Variable:                      y   R-squared:                       0.153\n",
      "Model:                            OLS   Adj. R-squared:                  0.151\n",
      "Method:                 Least Squares   F-statistic:                     72.17\n",
      "Date:                Mon, 18 Nov 2024   Prob (F-statistic):           3.02e-56\n",
      "Time:                        06:22:37   Log-Likelihood:                -1793.6\n",
      "No. Observations:                1599   AIC:                             3597.\n",
      "Df Residuals:                    1594   BIC:                             3624.\n",
      "Df Model:                           4                                         \n",
      "Covariance Type:            nonrobust                                         \n",
      "==============================================================================\n",
      "                 coef    std err          t      P>|t|      [0.025      0.975]\n",
      "------------------------------------------------------------------------------\n",
      "const          6.4387      0.123     52.256      0.000       6.197       6.680\n",
      "x1             0.0139      0.015      0.946      0.344      -0.015       0.043\n",
      "x2            -1.7524      0.128    -13.744      0.000      -2.003      -1.502\n",
      "x3            -0.0424      0.153     -0.276      0.782      -0.343       0.259\n",
      "x4             0.0072      0.013      0.534      0.593      -0.019       0.033\n",
      "==============================================================================\n",
      "Omnibus:                       20.937   Durbin-Watson:                   1.742\n",
      "Prob(Omnibus):                  0.000   Jarque-Bera (JB):               22.517\n",
      "Skew:                           0.240   Prob(JB):                     1.29e-05\n",
      "Kurtosis:                       3.327   Cond. No.                         86.2\n",
      "==============================================================================\n",
      "\n",
      "Notes:\n",
      "[1] Standard Errors assume that the covariance matrix of the errors is correctly specified.\n"
     ]
    }
   ],
   "source": [
    "import statsmodels.api as sm\n",
    "X = np.append(arr = np.ones((1599, 1)).astype(int), values = X, axis = 1)\n",
    "X_opt = X[:, [i for i in range(5)]]\n",
    "regressor_OLS = sm.OLS(endog = y, exog = X_opt).fit()\n",
    "print(regressor_OLS.summary())"
   ],
   "metadata": {
    "collapsed": false,
    "ExecuteTime": {
     "end_time": "2024-11-18T03:22:37.446299800Z",
     "start_time": "2024-11-18T03:22:37.397291100Z"
    }
   },
   "id": "665fe44bf92c0974",
   "execution_count": 97
  },
  {
   "cell_type": "code",
   "outputs": [
    {
     "name": "stdout",
     "output_type": "stream",
     "text": [
      "                            OLS Regression Results                            \n",
      "==============================================================================\n",
      "Dep. Variable:                      y   R-squared:                       0.086\n",
      "Model:                            OLS   Adj. R-squared:                  0.083\n",
      "Method:                 Least Squares   F-statistic:                     37.37\n",
      "Date:                Mon, 18 Nov 2024   Prob (F-statistic):           6.54e-30\n",
      "Time:                        06:22:37   Log-Likelihood:                -1855.0\n",
      "No. Observations:                1599   AIC:                             3720.\n",
      "Df Residuals:                    1594   BIC:                             3747.\n",
      "Df Model:                           4                                         \n",
      "Covariance Type:            nonrobust                                         \n",
      "==============================================================================\n",
      "                 coef    std err          t      P>|t|      [0.025      0.975]\n",
      "------------------------------------------------------------------------------\n",
      "const          5.8364      0.115     50.572      0.000       5.610       6.063\n",
      "x1            -0.0302      0.015     -2.012      0.044      -0.060      -0.001\n",
      "x2             1.2842      0.137      9.373      0.000       1.015       1.553\n",
      "x3            -0.0074      0.014     -0.535      0.593      -0.035       0.020\n",
      "x4            -3.1780      0.421     -7.555      0.000      -4.003      -2.353\n",
      "==============================================================================\n",
      "Omnibus:                        6.442   Durbin-Watson:                   1.747\n",
      "Prob(Omnibus):                  0.040   Jarque-Bera (JB):                6.408\n",
      "Skew:                           0.135   Prob(JB):                       0.0406\n",
      "Kurtosis:                       3.152   Cond. No.                         196.\n",
      "==============================================================================\n",
      "\n",
      "Notes:\n",
      "[1] Standard Errors assume that the covariance matrix of the errors is correctly specified.\n"
     ]
    }
   ],
   "source": [
    "X_opt = X[:, [0, 1, 3, 4, 5]]\n",
    "regressor_OLS = sm.OLS(endog = y, exog = X_opt).fit()\n",
    "print(regressor_OLS.summary())"
   ],
   "metadata": {
    "collapsed": false,
    "ExecuteTime": {
     "end_time": "2024-11-18T03:22:37.447300600Z",
     "start_time": "2024-11-18T03:22:37.418766400Z"
    }
   },
   "id": "9502a5109dec8bb3",
   "execution_count": 98
  },
  {
   "cell_type": "code",
   "outputs": [
    {
     "name": "stdout",
     "output_type": "stream",
     "text": [
      "                            OLS Regression Results                            \n",
      "==============================================================================\n",
      "Dep. Variable:                      y   R-squared:                       0.083\n",
      "Model:                            OLS   Adj. R-squared:                  0.082\n",
      "Method:                 Least Squares   F-statistic:                     48.38\n",
      "Date:                Mon, 18 Nov 2024   Prob (F-statistic):           6.32e-30\n",
      "Time:                        06:22:37   Log-Likelihood:                -1857.0\n",
      "No. Observations:                1599   AIC:                             3722.\n",
      "Df Residuals:                    1595   BIC:                             3744.\n",
      "Df Model:                           3                                         \n",
      "Covariance Type:            nonrobust                                         \n",
      "==============================================================================\n",
      "                 coef    std err          t      P>|t|      [0.025      0.975]\n",
      "------------------------------------------------------------------------------\n",
      "const          5.6319      0.055    102.847      0.000       5.525       5.739\n",
      "x1             1.1009      0.102     10.746      0.000       0.900       1.302\n",
      "x2            -0.0082      0.014     -0.589      0.556      -0.035       0.019\n",
      "x3            -3.1270      0.420     -7.440      0.000      -3.951      -2.303\n",
      "==============================================================================\n",
      "Omnibus:                        7.593   Durbin-Watson:                   1.752\n",
      "Prob(Omnibus):                  0.022   Jarque-Bera (JB):                7.689\n",
      "Skew:                           0.141   Prob(JB):                       0.0214\n",
      "Kurtosis:                       3.190   Cond. No.                         66.4\n",
      "==============================================================================\n",
      "\n",
      "Notes:\n",
      "[1] Standard Errors assume that the covariance matrix of the errors is correctly specified.\n"
     ]
    }
   ],
   "source": [
    "X_opt = X[:, [0, 3, 4, 5]]\n",
    "regressor_OLS = sm.OLS(endog = y, exog = X_opt).fit()\n",
    "print(regressor_OLS.summary())"
   ],
   "metadata": {
    "collapsed": false,
    "ExecuteTime": {
     "end_time": "2024-11-18T03:22:37.468995600Z",
     "start_time": "2024-11-18T03:22:37.429594800Z"
    }
   },
   "id": "51659b45b1b3105",
   "execution_count": 99
  },
  {
   "cell_type": "code",
   "outputs": [
    {
     "name": "stdout",
     "output_type": "stream",
     "text": [
      "                            OLS Regression Results                            \n",
      "==============================================================================\n",
      "Dep. Variable:                      y   R-squared:                       0.083\n",
      "Model:                            OLS   Adj. R-squared:                  0.082\n",
      "Method:                 Least Squares   F-statistic:                     72.43\n",
      "Date:                Mon, 18 Nov 2024   Prob (F-statistic):           7.76e-31\n",
      "Time:                        06:22:37   Log-Likelihood:                -1857.2\n",
      "No. Observations:                1599   AIC:                             3720.\n",
      "Df Residuals:                    1596   BIC:                             3736.\n",
      "Df Model:                           2                                         \n",
      "Covariance Type:            nonrobust                                         \n",
      "==============================================================================\n",
      "                 coef    std err          t      P>|t|      [0.025      0.975]\n",
      "------------------------------------------------------------------------------\n",
      "const          5.6140      0.045    123.430      0.000       5.525       5.703\n",
      "x1             1.0928      0.101     10.767      0.000       0.894       1.292\n",
      "x2            -3.1337      0.420     -7.460      0.000      -3.958      -2.310\n",
      "==============================================================================\n",
      "Omnibus:                        7.501   Durbin-Watson:                   1.755\n",
      "Prob(Omnibus):                  0.024   Jarque-Bera (JB):                7.606\n",
      "Skew:                           0.139   Prob(JB):                       0.0223\n",
      "Kurtosis:                       3.192   Cond. No.                         22.7\n",
      "==============================================================================\n",
      "\n",
      "Notes:\n",
      "[1] Standard Errors assume that the covariance matrix of the errors is correctly specified.\n"
     ]
    }
   ],
   "source": [
    "X_opt = X[:, [0, 3, 5]]\n",
    "regressor_OLS = sm.OLS(endog = y, exog = X_opt).fit()\n",
    "print(regressor_OLS.summary())"
   ],
   "metadata": {
    "collapsed": false,
    "ExecuteTime": {
     "end_time": "2024-11-18T03:22:37.503995400Z",
     "start_time": "2024-11-18T03:22:37.438359Z"
    }
   },
   "id": "2dd8eaedfdbfbfe2",
   "execution_count": 100
  },
  {
   "cell_type": "code",
   "outputs": [
    {
     "name": "stdout",
     "output_type": "stream",
     "text": [
      "                            OLS Regression Results                            \n",
      "==============================================================================\n",
      "Dep. Variable:                      y   R-squared:                       0.051\n",
      "Model:                            OLS   Adj. R-squared:                  0.051\n",
      "Method:                 Least Squares   F-statistic:                     86.26\n",
      "Date:                Mon, 18 Nov 2024   Prob (F-statistic):           4.99e-20\n",
      "Time:                        06:22:37   Log-Likelihood:                -1884.6\n",
      "No. Observations:                1599   AIC:                             3773.\n",
      "Df Residuals:                    1597   BIC:                             3784.\n",
      "Df Model:                           1                                         \n",
      "Covariance Type:            nonrobust                                         \n",
      "==============================================================================\n",
      "                 coef    std err          t      P>|t|      [0.025      0.975]\n",
      "------------------------------------------------------------------------------\n",
      "const          5.3817      0.034    159.610      0.000       5.316       5.448\n",
      "x1             0.9385      0.101      9.288      0.000       0.740       1.137\n",
      "==============================================================================\n",
      "Omnibus:                       11.279   Durbin-Watson:                   1.740\n",
      "Prob(Omnibus):                  0.004   Jarque-Bera (JB):               11.967\n",
      "Skew:                           0.162   Prob(JB):                      0.00252\n",
      "Kurtosis:                       3.272   Cond. No.                         5.53\n",
      "==============================================================================\n",
      "\n",
      "Notes:\n",
      "[1] Standard Errors assume that the covariance matrix of the errors is correctly specified.\n"
     ]
    }
   ],
   "source": [
    "X_opt = X[:, [0, 3]]\n",
    "regressor_OLS = sm.OLS(endog = y, exog = X_opt).fit()\n",
    "print(regressor_OLS.summary())"
   ],
   "metadata": {
    "collapsed": false,
    "ExecuteTime": {
     "end_time": "2024-11-18T03:22:37.504996700Z",
     "start_time": "2024-11-18T03:22:37.448300300Z"
    }
   },
   "id": "64e368d5f1acbdee",
   "execution_count": 101
  }
 ],
 "metadata": {
  "kernelspec": {
   "display_name": "Python 3",
   "language": "python",
   "name": "python3"
  },
  "language_info": {
   "codemirror_mode": {
    "name": "ipython",
    "version": 2
   },
   "file_extension": ".py",
   "mimetype": "text/x-python",
   "name": "python",
   "nbconvert_exporter": "python",
   "pygments_lexer": "ipython2",
   "version": "2.7.6"
  }
 },
 "nbformat": 4,
 "nbformat_minor": 5
}
